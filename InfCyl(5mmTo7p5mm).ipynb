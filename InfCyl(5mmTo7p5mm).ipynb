{
 "cells": [
  {
   "cell_type": "markdown",
   "id": "206d27d0",
   "metadata": {},
   "source": [
    "# Heat flux calculation for the thermal manikin with change material in thickness from 5mm to 7mm"
   ]
  },
  {
   "cell_type": "code",
   "execution_count": 1,
   "id": "b1c0ca84",
   "metadata": {},
   "outputs": [],
   "source": [
    "from ngsolve import *\n",
    "import matplotlib.pyplot as plt\n",
    "import numpy as np\n",
    "from netgen.read_gmsh import ReadGmsh\n",
    "from calculations import *\n",
    "from ngsolve.webgui import Draw\n"
   ]
  },
  {
   "cell_type": "markdown",
   "id": "072bff8f",
   "metadata": {},
   "source": [
    "### Import and refine mesh"
   ]
  },
  {
   "cell_type": "code",
   "execution_count": 2,
   "id": "112b8efb",
   "metadata": {},
   "outputs": [
    {
     "name": "stdout",
     "output_type": "stream",
     "text": [
      "WARNING: Physical groups detected - Be sure to define them for every geometrical entity.\n"
     ]
    },
    {
     "data": {
      "application/vnd.jupyter.widget-view+json": {
       "model_id": "42882532cc42411eae9dc3a63941bae8",
       "version_major": 2,
       "version_minor": 0
      },
      "text/plain": [
       "WebGuiWidget(layout=Layout(height='500px', width='100%'), value={'gui_settings': {}, 'ngsolve_version': '6.2.2…"
      ]
     },
     "metadata": {},
     "output_type": "display_data"
    },
    {
     "name": "stdout",
     "output_type": "stream",
     "text": [
      "('bottom', 'baby', 'bag', 'top')\n"
     ]
    }
   ],
   "source": [
    "ngmesh = ReadGmsh(\"../Mesh/InfCyl(5mmTo7p5mm)\")\n",
    "\n",
    "mesh = Mesh(ngmesh)\n",
    "mesh.GetBoundaries()\n",
    "for i in range(1):\n",
    "    mesh.Refine()\n",
    "\n",
    "Draw(mesh)\n",
    "print(mesh.GetBoundaries())"
   ]
  },
  {
   "cell_type": "markdown",
   "id": "031aa86b",
   "metadata": {},
   "source": [
    "### Parameters and heat coefficient calculations"
   ]
  },
  {
   "cell_type": "code",
   "execution_count": 5,
   "id": "d0160235",
   "metadata": {},
   "outputs": [
    {
     "name": "stdout",
     "output_type": "stream",
     "text": [
      "h_conv = 3.6494084933804176\n",
      "h_rad = 3.0935837154568486\n"
     ]
    }
   ],
   "source": [
    "D = (67.5*2+2*7.5)*1e-3\n",
    "\n",
    "T_ambient = 4.7\n",
    "Ts = 15.5\n",
    "T_baby = 34\n",
    "\n",
    "\n",
    "k = 0.032\n",
    "eps = 0.6\n",
    "\n",
    "\n",
    "h_rads = get_h_rad(Ts,T_ambient, eps)\n",
    "h_convs = get_h_conv(D, Ts, T_ambient)\n",
    "h = h_rads + h_convs\n",
    "print(\"h_conv =\", h_convs)\n",
    "print(\"h_rad =\", h_rads)"
   ]
  },
  {
   "cell_type": "markdown",
   "id": "016b0fe8",
   "metadata": {},
   "source": [
    "### Finding the temperature using finite element"
   ]
  },
  {
   "cell_type": "code",
   "execution_count": null,
   "id": "48c7ce19",
   "metadata": {},
   "outputs": [
    {
     "data": {
      "application/vnd.jupyter.widget-view+json": {
       "model_id": "0c9339f02de24df89dd1089833ed3c7a",
       "version_major": 2,
       "version_minor": 0
      },
      "text/plain": [
       "WebGuiWidget(layout=Layout(height='500px', width='100%'), value={'gui_settings': {}, 'ngsolve_version': '6.2.2…"
      ]
     },
     "metadata": {},
     "output_type": "display_data"
    }
   ],
   "source": [
    "\n",
    "#define finite element space and trial and test functions\n",
    "fes = H1(mesh, order = 3, dirichlet = \"baby\")\n",
    "u = fes.TrialFunction()\n",
    "v = fes.TestFunction()\n",
    "\n",
    "# robin bc introduced in the biliniar and linear term of the equation - > here baby bc is dirichlet and bag bc is robin \n",
    "a = BilinearForm(k*grad(u)*grad(v)*dx + h*u*v*ds(\"bag\")).Assemble()\n",
    "f = LinearForm(h*T_ambient*v*ds(\"bag\")).Assemble()\n",
    "\n",
    "#print(f.vec)\n",
    "\n",
    "gfu = GridFunction(fes)\n",
    "#apply dirichlet bnd_cond:\n",
    "bc_vals = {\"baby\": T_baby, \"bag\": T_ambient, \"top\": None, \"bottom\":None}\n",
    "\n",
    "boundaries = CoefficientFunction([bc_vals[mat] for mat in mesh.GetBoundaries()])\n",
    "gfu.Set(boundaries,definedon=mesh.Boundaries(\"baby|bag\"))\n",
    "\n",
    "\n",
    "Draw(gfu)\n",
    "\n",
    "#calculate\n",
    "res = f.vec - a.mat * gfu.vec\n",
    "gfu.vec.data += a.mat.Inverse(freedofs=fes.FreeDofs()) * res\n",
    "\n",
    "Draw (gfu)\n",
    "\n",
    "\n",
    "#analyze flux\n",
    "W, Area_inner, W_per_m2 = get_heat_loss(mesh, gfu, h_rads,h_convs, T_ambient)\n",
    "                \n",
    "print(f\"Total heat loss W = {W:.3f} W\")\n",
    "print(f\"Inner surface area= {Area_inner:.3f} m^2\")\n",
    "print(f\"Heat flux per unit area = {W_per_m2:.3f} W/m^2\")\n"
   ]
  },
  {
   "cell_type": "markdown",
   "id": "f6638793",
   "metadata": {},
   "source": [
    "### Save result to paraview"
   ]
  },
  {
   "cell_type": "code",
   "execution_count": 5,
   "id": "c30b6c41",
   "metadata": {},
   "outputs": [
    {
     "data": {
      "text/plain": [
       "'InfCyl(5mmTo7p5mm)'"
      ]
     },
     "execution_count": 5,
     "metadata": {},
     "output_type": "execute_result"
    }
   ],
   "source": [
    "vtk = VTKOutput(ma=mesh, coefs=[gfu], names=[\"temperature\"], filename=\"InfCyl(5mmTo7p5mm)\", subdivision=3)\n",
    "vtk.Do()"
   ]
  }
 ],
 "metadata": {
  "kernelspec": {
   "display_name": ".venv",
   "language": "python",
   "name": "python3"
  },
  "language_info": {
   "codemirror_mode": {
    "name": "ipython",
    "version": 3
   },
   "file_extension": ".py",
   "mimetype": "text/x-python",
   "name": "python",
   "nbconvert_exporter": "python",
   "pygments_lexer": "ipython3",
   "version": "3.11.4"
  }
 },
 "nbformat": 4,
 "nbformat_minor": 5
}
