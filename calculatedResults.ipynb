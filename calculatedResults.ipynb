{
 "cells": [
  {
   "cell_type": "markdown",
   "metadata": {},
   "source": [
    "# Calculations for the theoretical heat flux\n",
    "\n",
    "This file is used to perform calculations for the heat flux thrugh a cylinder shell."
   ]
  },
  {
   "cell_type": "code",
   "execution_count": 1,
   "metadata": {},
   "outputs": [],
   "source": [
    "import numpy as np"
   ]
  },
  {
   "cell_type": "markdown",
   "metadata": {},
   "source": [
    "### Sample 1 "
   ]
  },
  {
   "cell_type": "code",
   "execution_count": 53,
   "metadata": {},
   "outputs": [
    {
     "name": "stdout",
     "output_type": "stream",
     "text": [
      "PR:  0.712738007380074\n",
      "h_rad: 4.06231172645571\n",
      "283.0\n",
      "Prandtl: 0.712738007380074\n",
      "Ra 4346881.365256054\n",
      "22.14233294607191\n",
      "hcv: 3.600343337031292\n",
      "1.643984987613147\n",
      "1.9646884655559118\n",
      "1.7412629809377036\n",
      "11.413633585486602\n",
      "P =  89.70549154419089\n"
     ]
    }
   ],
   "source": [
    "#geometry\n",
    "thickness = 0.0075 #må endres\n",
    "D1 = 0.135\n",
    "D2 = D1 + 2*thickness\n",
    "r1 = D1/2\n",
    "r2 = r1 + thickness\n",
    "L = 0.3\n",
    "A = np.pi*D1*L\n",
    "A2 = 2*np.pi*r2*L\n",
    "\n",
    "k_bag = 0.034 #Må endres\n",
    "\n",
    "#temps\n",
    "K = 273.15\n",
    "T1 = 34 + K\n",
    "Ts = 15 + K # må endres\n",
    "T2 = 4.7 + K\n",
    "Tf = (Ts+T2)/2\n",
    "\n",
    "#General\n",
    "g = 9.81\n",
    "pa = 1\n",
    "eps = 0.79\n",
    "sigma = 5.67e-8\n",
    "\n",
    "#air\n",
    "beta = 1/Tf\n",
    "alfa = 1.944e-5\n",
    "rho = 1.246\n",
    "nu = 1.426e-5\n",
    "mu = 1.728e-5\n",
    "Ma = 28.97\n",
    "rho = 1.246\n",
    "cp = 1006\n",
    "kappa = 0.02439\n",
    "\n",
    "#convection\n",
    "Pr = mu*cp/kappa\n",
    "\n",
    "print(\"PR: \", Pr)\n",
    "Ra =(g*beta*(Ts-T2)*D2**3)/(alfa*nu)\n",
    "Nussel = (0.6 + (0.387*Ra**(1/6))/(1+(0.559/Pr)**(9/16))**(8/27))**2\n",
    "h_cv = (kappa/D2)*Nussel\n",
    "\n",
    "\n",
    "h_rad = eps*sigma*(Ts**2 + T2**2)*(Ts+T2)\n",
    "\n",
    "R_cv = 1/(h_cv*A2)\n",
    "R_cd = np.log(r2/r1)/(2*np.pi*L*k_bag)\n",
    "R_rad = 1/(h_rad*A2)\n",
    "\n",
    "R_tot = R_cd + R_cv*R_rad/(R_rad+R_cv)\n",
    "\n",
    "P = (T1-T2)/R_tot\n",
    "\n",
    "print(\"h_rad:\", h_rad )\n",
    "print(Tf)\n",
    "print(\"Prandtl:\", Pr)\n",
    "print(\"Ra\", Ra)\n",
    "print(Nussel)\n",
    "print(\"hcv:\", h_cv)\n",
    "\n",
    "print(R_cd)\n",
    "print(R_cv)\n",
    "print(R_rad)\n",
    "print(P)\n",
    "print(\"P = \", P/A)"
   ]
  },
  {
   "cell_type": "markdown",
   "metadata": {},
   "source": [
    "### Sample 2"
   ]
  },
  {
   "cell_type": "code",
   "execution_count": 58,
   "metadata": {},
   "outputs": [
    {
     "name": "stdout",
     "output_type": "stream",
     "text": [
      "1.6340133543004618\n",
      "285.65\n",
      "Prandtl: 0.712738007380074\n",
      "Ra 5891794.598579767\n",
      "24.196684464314615\n",
      "hcv: 4.070049200583679\n",
      "0.7582031563989395\n",
      "1.797882110824078\n",
      "1.707679699616545\n",
      "17.931309999937945\n",
      "P =  140.93119123966704\n"
     ]
    }
   ],
   "source": [
    "#geometry\n",
    "thickness = 0.005 #må endres\n",
    "D1 = 0.135\n",
    "D2 = D1 + 2*thickness\n",
    "r1 = D1/2\n",
    "r2 = r1 + thickness\n",
    "L = 0.3\n",
    "A = np.pi*D1*L\n",
    "A2 = 2*np.pi*r2*L\n",
    "k_bag = 0.05 #Må endres\n",
    "\n",
    "#temps\n",
    "K = 273.15\n",
    "T1 = 34 + K\n",
    "Ts = 20.3 + K # må endres\n",
    "T2 = 4.7 + K\n",
    "Tf = (Ts+T2)/2\n",
    "\n",
    "#General\n",
    "g = 9.81\n",
    "pa = 1\n",
    "eps = 0.81\n",
    "sigma = 5.67e-8\n",
    "\n",
    "#air\n",
    "beta = 1/Tf\n",
    "alfa = 1.944e-5\n",
    "rho = 1.246\n",
    "nu = 1.426e-5\n",
    "mu = 1.728e-5\n",
    "Ma = 28.97\n",
    "rho = 1.246\n",
    "cp = 1006\n",
    "kappa = 0.02439\n",
    "\n",
    "#convection\n",
    "Pr = mu*cp/kappa\n",
    "Ra =(g*beta*(Ts-T2)*D2**3)/(alfa*nu)\n",
    "Nussel = (0.6 + (0.387*Ra**(1/6))/(1+(0.559/Pr)**(9/16))**(8/27))**2\n",
    "h_cv = (kappa/D2)*Nussel\n",
    "\n",
    "\n",
    "h_rad = eps*sigma*(Ts**2 + T2**2)*(Ts+T2)\n",
    "\n",
    "R_cv = 1/(h_cv*A2)\n",
    "R_cd = np.log(r2/r1)/(2*np.pi*L*k_bag)\n",
    "R_rad = 1/(h_rad*A2)\n",
    "\n",
    "R_tot = R_cd + R_cv*R_rad/(R_rad+R_cv)\n",
    "\n",
    "P = (T1-T2)/R_tot\n",
    "print(R_tot)\n",
    "\n",
    "\n",
    "print(Tf)\n",
    "print(\"Prandtl:\", Pr)\n",
    "print(\"Ra\", Ra)\n",
    "print(Nussel)\n",
    "print(\"hcv:\", h_cv)\n",
    "\n",
    "print(R_cd)\n",
    "print(R_cv)\n",
    "print(R_rad)\n",
    "print(P)\n",
    "print(\"P = \", P/A)"
   ]
  }
 ],
 "metadata": {
  "kernelspec": {
   "display_name": ".venv",
   "language": "python",
   "name": "python3"
  },
  "language_info": {
   "codemirror_mode": {
    "name": "ipython",
    "version": 3
   },
   "file_extension": ".py",
   "mimetype": "text/x-python",
   "name": "python",
   "nbconvert_exporter": "python",
   "pygments_lexer": "ipython3",
   "version": "3.11.4"
  }
 },
 "nbformat": 4,
 "nbformat_minor": 2
}
