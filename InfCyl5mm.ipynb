{
 "cells": [
  {
   "cell_type": "markdown",
   "id": "64a6c2bd",
   "metadata": {},
   "source": [
    "# Heat flux in cylindrical mesh - Sample 2"
   ]
  },
  {
   "cell_type": "code",
   "execution_count": 23,
   "id": "b1c0ca84",
   "metadata": {},
   "outputs": [],
   "source": [
    "from ngsolve import *\n",
    "import matplotlib.pyplot as plt\n",
    "import numpy as np\n",
    "from netgen.read_gmsh import ReadGmsh\n",
    "from calculations import *\n",
    "from ngsolve.webgui import Draw\n"
   ]
  },
  {
   "cell_type": "markdown",
   "id": "072bff8f",
   "metadata": {},
   "source": [
    "### Import and refine mesh"
   ]
  },
  {
   "cell_type": "code",
   "execution_count": 24,
   "id": "112b8efb",
   "metadata": {},
   "outputs": [
    {
     "name": "stdout",
     "output_type": "stream",
     "text": [
      "WARNING: Physical groups detected - Be sure to define them for every geometrical entity.\n"
     ]
    },
    {
     "data": {
      "application/vnd.jupyter.widget-view+json": {
       "model_id": "fa7e8e4cf03147a89a3b34a13251d345",
       "version_major": 2,
       "version_minor": 0
      },
      "text/plain": [
       "WebGuiWidget(layout=Layout(height='500px', width='100%'), value={'gui_settings': {}, 'ngsolve_version': '6.2.2…"
      ]
     },
     "metadata": {},
     "output_type": "display_data"
    },
    {
     "name": "stdout",
     "output_type": "stream",
     "text": [
      "('bottom', 'baby', 'bag', 'top')\n"
     ]
    }
   ],
   "source": [
    "ngmesh = ReadGmsh(\"../Mesh/InfCyl5mm\")\n",
    "\n",
    "mesh = Mesh(ngmesh)\n",
    "mesh.GetBoundaries()\n",
    "for i in range(1):\n",
    "    mesh.Refine()\n",
    "\n",
    "Draw(mesh)\n",
    "print(mesh.GetBoundaries())"
   ]
  },
  {
   "cell_type": "markdown",
   "id": "031aa86b",
   "metadata": {},
   "source": [
    "### Parameters"
   ]
  },
  {
   "cell_type": "code",
   "execution_count": 25,
   "id": "d0160235",
   "metadata": {},
   "outputs": [
    {
     "name": "stdout",
     "output_type": "stream",
     "text": [
      "h_conv = 4.055125080924974\n",
      "h_rad = 4.227612839258759\n"
     ]
    }
   ],
   "source": [
    "D = (67.5*2+2*5)*1e-3\n",
    "\n",
    "T_ambient = 4.7\n",
    "Ts = 20.1\n",
    "T_baby = 34\n",
    "\n",
    "\n",
    "k = 0.048 # -> burde også ha +-0.002\n",
    "eps = 0.80\n",
    "\n",
    "\n",
    "h_rads = get_h_rad(Ts,T_ambient, eps)\n",
    "h_convs = get_h_conv(D, Ts, T_ambient)\n",
    "h = h_rads + h_convs\n",
    "print(\"h_conv =\", h_convs)\n",
    "print(\"h_rad =\", h_rads)"
   ]
  },
  {
   "cell_type": "markdown",
   "id": "016b0fe8",
   "metadata": {},
   "source": [
    "### Perform finite element"
   ]
  },
  {
   "cell_type": "code",
   "execution_count": 26,
   "id": "48c7ce19",
   "metadata": {},
   "outputs": [
    {
     "data": {
      "application/vnd.jupyter.widget-view+json": {
       "model_id": "5aa92a74166644e580153052748e31a1",
       "version_major": 2,
       "version_minor": 0
      },
      "text/plain": [
       "WebGuiWidget(layout=Layout(height='500px', width='100%'), value={'gui_settings': {}, 'ngsolve_version': '6.2.2…"
      ]
     },
     "metadata": {},
     "output_type": "display_data"
    },
    {
     "name": "stdout",
     "output_type": "stream",
     "text": [
      "Total heat loss W = 17.504 W\n",
      "Inner surface area= 0.127212 m²\n",
      "Heat flux per unit area = 137.600 W/m²\n"
     ]
    }
   ],
   "source": [
    "\n",
    "#define finite element space and trial and test functions\n",
    "fes = H1(mesh, order = 3, dirichlet = \"baby\")\n",
    "u = fes.TrialFunction()\n",
    "v = fes.TestFunction()\n",
    "\n",
    "# robin bc introduced in the biliniar and linear term of the equation - > here one baby bc is dirichlet and outer is robin \n",
    "a = BilinearForm(k*grad(u)*grad(v)*dx + h*u*v*ds(\"bag\")).Assemble()\n",
    "f = LinearForm(h*T_ambient*v*ds(\"bag\")).Assemble()\n",
    "\n",
    "#print(f.vec)\n",
    "\n",
    "gfu = GridFunction(fes)\n",
    "#apply dirichlet bnd_cond:\n",
    "bc_vals = {\"baby\": T_baby, \"bag\": T_ambient, \"top\": None, \"bottom\":None}\n",
    "\n",
    "boundaries = CoefficientFunction([bc_vals[mat] for mat in mesh.GetBoundaries()])\n",
    "gfu.Set(boundaries,definedon=mesh.Boundaries(\"baby|bag\"))\n",
    "\n",
    "\n",
    "#Draw(gfu)\n",
    "\n",
    "#calculate\n",
    "res = f.vec - a.mat * gfu.vec\n",
    "gfu.vec.data += a.mat.Inverse(freedofs=fes.FreeDofs()) * res\n",
    "\n",
    "Draw (gfu)\n",
    "\n",
    "\n",
    "#analyze flux\n",
    "W, Area_inner, W_per_m2 = get_heat_loss(mesh, gfu, h_rads,h_convs, T_ambient)\n",
    "                \n",
    "print(f\"Total heat loss W = {W:.3f} W\")\n",
    "print(f\"Inner surface area= {Area_inner:.6f} m²\")\n",
    "print(f\"Heat flux per unit area = {W_per_m2:.3f} W/m²\")\n"
   ]
  },
  {
   "cell_type": "markdown",
   "id": "e3be1501",
   "metadata": {},
   "source": [
    "### Exploring the emissivity"
   ]
  },
  {
   "cell_type": "code",
   "execution_count": 22,
   "id": "be8f4040",
   "metadata": {},
   "outputs": [
    {
     "data": {
      "image/png": "[encoded data removed]",
      "text/plain": [
       "<Figure size 640x480 with 1 Axes>"
      ]
     },
     "metadata": {},
     "output_type": "display_data"
    }
   ],
   "source": [
    "from matplotlib.ticker import FormatStrFormatter\n",
    "plt.rcParams.update({'font.size': 15})\n",
    "plt.gca().yaxis.set_major_formatter(FormatStrFormatter('%.1f'))\n",
    "\n",
    "eps_list = [ 0.78, 0.79, 0.80, 0.81, 0.82]\n",
    "\n",
    "Flux = [136.754, 137.221, 137.686, 138.148, 138.607]\n",
    "plt.plot(eps_list, Flux, \"-o\")\n",
    "plt.xlabel(r'Emissivity, $\\epsilon$')\n",
    "plt.ylabel(r\"Flux (W/m$^2$)\")\n",
    "plt.grid(True)\n",
    "plt.show()"
   ]
  },
  {
   "cell_type": "markdown",
   "id": "f6638793",
   "metadata": {},
   "source": [
    "### Save result to paraview"
   ]
  },
  {
   "cell_type": "code",
   "execution_count": 7,
   "id": "c30b6c41",
   "metadata": {},
   "outputs": [
    {
     "data": {
      "text/plain": [
       "'../paraview/InfCyl5mm'"
      ]
     },
     "execution_count": 7,
     "metadata": {},
     "output_type": "execute_result"
    }
   ],
   "source": [
    "vtk = VTKOutput(ma=mesh, coefs=[gfu], names=[\"temperature\"], filename=\"../paraview/InfCyl5mm\", subdivision=3)\n",
    "vtk.Do()"
   ]
  }
 ],
 "metadata": {
  "kernelspec": {
   "display_name": ".venv",
   "language": "python",
   "name": "python3"
  },
  "language_info": {
   "codemirror_mode": {
    "name": "ipython",
    "version": 3
   },
   "file_extension": ".py",
   "mimetype": "text/x-python",
   "name": "python",
   "nbconvert_exporter": "python",
   "pygments_lexer": "ipython3",
   "version": "3.11.4"
  }
 },
 "nbformat": 4,
 "nbformat_minor": 5
}
