{
 "cells": [
  {
   "cell_type": "markdown",
   "id": "cf28e16b",
   "metadata": {},
   "source": [
    "# Heat flux of rounded cylinder mesh - Sample 2"
   ]
  },
  {
   "cell_type": "code",
   "execution_count": 6,
   "id": "b1c0ca84",
   "metadata": {},
   "outputs": [],
   "source": [
    "from ngsolve import *\n",
    "import matplotlib.pyplot as plt\n",
    "import numpy as np\n",
    "from netgen.read_gmsh import ReadGmsh\n",
    "from calculations import *\n",
    "from ngsolve.webgui import Draw\n"
   ]
  },
  {
   "cell_type": "markdown",
   "id": "072bff8f",
   "metadata": {},
   "source": [
    "### Import and refine mesh"
   ]
  },
  {
   "cell_type": "code",
   "execution_count": 7,
   "id": "112b8efb",
   "metadata": {},
   "outputs": [
    {
     "name": "stdout",
     "output_type": "stream",
     "text": [
      "WARNING: Physical groups detected - Be sure to define them for every geometrical entity.\n"
     ]
    },
    {
     "data": {
      "application/vnd.jupyter.widget-view+json": {
       "model_id": "fb7830ffc084431f83b666240d6267d1",
       "version_major": 2,
       "version_minor": 0
      },
      "text/plain": [
       "WebGuiWidget(layout=Layout(height='500px', width='100%'), value={'gui_settings': {}, 'ngsolve_version': '6.2.2…"
      ]
     },
     "metadata": {},
     "output_type": "display_data"
    },
    {
     "name": "stdout",
     "output_type": "stream",
     "text": [
      "('bag', 'bag', 'bag', 'baby', 'baby', 'baby')\n"
     ]
    }
   ],
   "source": [
    "ngmesh = ReadGmsh(\"../Mesh/Pill5mm\")\n",
    "\n",
    "mesh = Mesh(ngmesh)\n",
    "mesh.GetBoundaries()\n",
    "for i in range(1):\n",
    "    mesh.Refine()\n",
    "\n",
    "Draw(mesh)\n",
    "print(mesh.GetBoundaries())"
   ]
  },
  {
   "cell_type": "markdown",
   "id": "031aa86b",
   "metadata": {},
   "source": [
    "### Parameters"
   ]
  },
  {
   "cell_type": "code",
   "execution_count": 8,
   "id": "d0160235",
   "metadata": {},
   "outputs": [
    {
     "name": "stdout",
     "output_type": "stream",
     "text": [
      "h_conv = 3.5959112586012107\n",
      "h_rad = 4.109322692487599\n"
     ]
    }
   ],
   "source": [
    "d = 5\n",
    "D = (67.5*2+2*d)*1e-3\n",
    "\n",
    "T_ambient = 4.7\n",
    "Ts = 14.8\n",
    "T_baby = 34\n",
    "\n",
    "\n",
    "k = 0.048\n",
    "eps = 0.80\n",
    "\n",
    "\n",
    "h_rads = get_h_rad(Ts,T_ambient, eps)\n",
    "h_convs = get_h_conv(D, Ts, T_ambient)\n",
    "h = h_rads + h_convs\n",
    "print(\"h_conv =\", h_convs)\n",
    "print(\"h_rad =\", h_rads)"
   ]
  },
  {
   "cell_type": "markdown",
   "id": "016b0fe8",
   "metadata": {},
   "source": [
    "### Perform finite element"
   ]
  },
  {
   "cell_type": "code",
   "execution_count": null,
   "id": "48c7ce19",
   "metadata": {},
   "outputs": [
    {
     "data": {
      "application/vnd.jupyter.widget-view+json": {
       "model_id": "d5d0117f33dc4fb68b7efb7d75710380",
       "version_major": 2,
       "version_minor": 0
      },
      "text/plain": [
       "WebGuiWidget(layout=Layout(height='500px', width='100%'), value={'gui_settings': {}, 'ngsolve_version': '6.2.2…"
      ]
     },
     "metadata": {},
     "output_type": "display_data"
    },
    {
     "data": {
      "application/vnd.jupyter.widget-view+json": {
       "model_id": "dbe9a991c9164aefa1d730eb6501d71e",
       "version_major": 2,
       "version_minor": 0
      },
      "text/plain": [
       "WebGuiWidget(layout=Layout(height='500px', width='100%'), value={'gui_settings': {}, 'ngsolve_version': '6.2.2…"
      ]
     },
     "metadata": {},
     "output_type": "display_data"
    },
    {
     "name": "stdout",
     "output_type": "stream",
     "text": [
      "Total heat loss W = 23.655 W\n",
      "Inner surface area= 0.254085 m²\n",
      "Heat flux per unit area = 93.100 W/m²\n"
     ]
    }
   ],
   "source": [
    "\n",
    "#define finite element space and trial and test functions\n",
    "fes = H1(mesh, order = 3, dirichlet = \"baby\")\n",
    "u = fes.TrialFunction()\n",
    "v = fes.TestFunction()\n",
    "\n",
    "# robin bc introduced in the biliniar and linear term of the equation - > here baby bc is dirichlet and bag is robin \n",
    "a = BilinearForm(k*grad(u)*grad(v)*dx + h*u*v*ds(\"bag\")).Assemble()\n",
    "f = LinearForm(h*T_ambient*v*ds(\"bag\")).Assemble()\n",
    "\n",
    "#print(f.vec)\n",
    "\n",
    "gfu = GridFunction(fes)\n",
    "#apply dirichlet bnd_cond:\n",
    "bc_vals = {\"baby\": T_baby, \"bag\": T_ambient, \"top\": None, \"bottom\":None}\n",
    "\n",
    "boundaries = CoefficientFunction([bc_vals[mat] for mat in mesh.GetBoundaries()])\n",
    "gfu.Set(boundaries,definedon=mesh.Boundaries(\"baby|bag\"))\n",
    "\n",
    "\n",
    "Draw(gfu)\n",
    "\n",
    "#calculate\n",
    "res = f.vec - a.mat * gfu.vec\n",
    "gfu.vec.data += a.mat.Inverse(freedofs=fes.FreeDofs()) * res\n",
    "\n",
    "Draw (gfu)\n",
    "\n",
    "\n",
    "#analyze flux\n",
    "W, Area_inner, W_per_m2 = get_heat_loss(mesh, gfu, h_rads,h_convs, T_ambient)\n",
    "                \n",
    "print(f\"Total heat loss W = {W:.3f} W\")\n",
    "print(f\"Inner surface area= {Area_inner:.6f} m²\")\n",
    "print(f\"Heat flux per unit area = {W_per_m2:.3f} W/m²\")\n"
   ]
  },
  {
   "cell_type": "code",
   "execution_count": 5,
   "id": "b529f892",
   "metadata": {},
   "outputs": [
    {
     "name": "stdout",
     "output_type": "stream",
     "text": [
      "0.2820222070309389\n"
     ]
    }
   ],
   "source": [
    "Area_outer = Integrate(1, mesh, BND, definedon=mesh.Boundaries(\"bag\"))\n",
    "print(Area_outer)"
   ]
  },
  {
   "cell_type": "markdown",
   "id": "f6638793",
   "metadata": {},
   "source": [
    "### Save result to paraview"
   ]
  },
  {
   "cell_type": "code",
   "execution_count": 34,
   "id": "c30b6c41",
   "metadata": {},
   "outputs": [
    {
     "data": {
      "text/plain": [
       "'../paraview/Pill5mm'"
      ]
     },
     "execution_count": 34,
     "metadata": {},
     "output_type": "execute_result"
    }
   ],
   "source": [
    "vtk = VTKOutput(ma=mesh, coefs=[gfu], names=[\"temperature\"], filename=\"../paraview/Pill5mm\", subdivision=3)\n",
    "vtk.Do()"
   ]
  }
 ],
 "metadata": {
  "kernelspec": {
   "display_name": ".venv",
   "language": "python",
   "name": "python3"
  },
  "language_info": {
   "codemirror_mode": {
    "name": "ipython",
    "version": 3
   },
   "file_extension": ".py",
   "mimetype": "text/x-python",
   "name": "python",
   "nbconvert_exporter": "python",
   "pygments_lexer": "ipython3",
   "version": "3.11.4"
  }
 },
 "nbformat": 4,
 "nbformat_minor": 5
}
